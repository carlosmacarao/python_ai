{
 "cells": [
  {
   "cell_type": "markdown",
   "metadata": {},
   "source": [
    "# Projeto Python IA: Inteligência Artificial e Previsões\n",
    "\n",
    "### Case: Score de Crédito dos Clientes\n",
    "\n",
    "Você foi contratado por um banco para conseguir definir o score de crédito dos clientes. Você precisa analisar todos os clientes do banco e, com base nessa análise, criar um modelo que consiga ler as informações do cliente e dizer automaticamente o score de crédito dele: Ruim, Ok, Bom\n",
    "\n",
    "Arquivos da aula: https://drive.google.com/drive/folders/1FbDqVq4XLvU85VBlVIMJ73p9oOu6u2-J?usp=drive_link"
   ]
  },
  {
   "cell_type": "code",
   "execution_count": 2,
   "metadata": {},
   "outputs": [
    {
     "name": "stdout",
     "output_type": "stream",
     "text": [
      "       id_cliente  mes  idade  profissao  salario_anual  num_contas  \\\n",
      "0            3392    1   23.0  cientista       19114.12         3.0   \n",
      "1            3392    2   23.0  cientista       19114.12         3.0   \n",
      "2            3392    3   23.0  cientista       19114.12         3.0   \n",
      "3            3392    4   23.0  cientista       19114.12         3.0   \n",
      "4            3392    5   23.0  cientista       19114.12         3.0   \n",
      "...           ...  ...    ...        ...            ...         ...   \n",
      "99995       37932    4   25.0   mecanico       39628.99         4.0   \n",
      "99996       37932    5   25.0   mecanico       39628.99         4.0   \n",
      "99997       37932    6   25.0   mecanico       39628.99         4.0   \n",
      "99998       37932    7   25.0   mecanico       39628.99         4.0   \n",
      "99999       37932    8   25.0   mecanico       39628.99         4.0   \n",
      "\n",
      "       num_cartoes  juros_emprestimo  num_emprestimos  dias_atraso  ...  \\\n",
      "0              4.0               3.0              4.0          3.0  ...   \n",
      "1              4.0               3.0              4.0          3.0  ...   \n",
      "2              4.0               3.0              4.0          3.0  ...   \n",
      "3              4.0               3.0              4.0          5.0  ...   \n",
      "4              4.0               3.0              4.0          6.0  ...   \n",
      "...            ...               ...              ...          ...  ...   \n",
      "99995          6.0               7.0              2.0         23.0  ...   \n",
      "99996          6.0               7.0              2.0         18.0  ...   \n",
      "99997          6.0               7.0              2.0         27.0  ...   \n",
      "99998          6.0               7.0              2.0         20.0  ...   \n",
      "99999          6.0               7.0              2.0         18.0  ...   \n",
      "\n",
      "       idade_historico_credito  investimento_mensal  \\\n",
      "0                        265.0            21.465380   \n",
      "1                        266.0            21.465380   \n",
      "2                        267.0            21.465380   \n",
      "3                        268.0            21.465380   \n",
      "4                        269.0            21.465380   \n",
      "...                        ...                  ...   \n",
      "99995                    378.0            24.028477   \n",
      "99996                    379.0            24.028477   \n",
      "99997                    380.0            24.028477   \n",
      "99998                    381.0            24.028477   \n",
      "99999                    382.0            24.028477   \n",
      "\n",
      "           comportamento_pagamento  saldo_final_mes  score_credito  \\\n",
      "0      alto_gasto_pagamento_baixos       312.494089           Good   \n",
      "1       baixo_gasto_pagamento_alto       284.629162           Good   \n",
      "2      baixo_gasto_pagamento_medio       331.209863           Good   \n",
      "3      baixo_gasto_pagamento_baixo       223.451310           Good   \n",
      "4       alto_gasto_pagamento_medio       341.489231           Good   \n",
      "...                            ...              ...            ...   \n",
      "99995    alto_gasto_pagamento_alto       479.866228           Poor   \n",
      "99996   alto_gasto_pagamento_medio       496.651610           Poor   \n",
      "99997    alto_gasto_pagamento_alto       516.809083           Poor   \n",
      "99998   baixo_gasto_pagamento_alto       319.164979       Standard   \n",
      "99999   alto_gasto_pagamento_medio       393.673696           Poor   \n",
      "\n",
      "       emprestimo_carro  emprestimo_casa emprestimo_pessoal  \\\n",
      "0                     1                1                  1   \n",
      "1                     1                1                  1   \n",
      "2                     1                1                  1   \n",
      "3                     1                1                  1   \n",
      "4                     1                1                  1   \n",
      "...                 ...              ...                ...   \n",
      "99995                 1                0                  0   \n",
      "99996                 1                0                  0   \n",
      "99997                 1                0                  0   \n",
      "99998                 1                0                  0   \n",
      "99999                 1                0                  0   \n",
      "\n",
      "       emprestimo_credito emprestimo_estudantil  \n",
      "0                       1                     0  \n",
      "1                       1                     0  \n",
      "2                       1                     0  \n",
      "3                       1                     0  \n",
      "4                       1                     0  \n",
      "...                   ...                   ...  \n",
      "99995                   0                     1  \n",
      "99996                   0                     1  \n",
      "99997                   0                     1  \n",
      "99998                   0                     1  \n",
      "99999                   0                     1  \n",
      "\n",
      "[100000 rows x 25 columns]\n"
     ]
    }
   ],
   "source": [
    "import pandas as pd\n",
    "\n",
    "tabela = pd.read_csv(\"clientes.csv\")\n",
    "print(tabela)"
   ]
  }
 ],
 "metadata": {
  "kernelspec": {
   "display_name": "Python 3",
   "language": "python",
   "name": "python3"
  },
  "language_info": {
   "codemirror_mode": {
    "name": "ipython",
    "version": 3
   },
   "file_extension": ".py",
   "mimetype": "text/x-python",
   "name": "python",
   "nbconvert_exporter": "python",
   "pygments_lexer": "ipython3",
   "version": "3.13.1"
  },
  "orig_nbformat": 4
 },
 "nbformat": 4,
 "nbformat_minor": 2
}
